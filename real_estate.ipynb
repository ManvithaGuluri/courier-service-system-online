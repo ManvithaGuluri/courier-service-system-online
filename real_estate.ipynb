{
  "nbformat": 4,
  "nbformat_minor": 0,
  "metadata": {
    "colab": {
      "provenance": [],
      "mount_file_id": "1quR9dOtsrR2u9lP02-QR-pLNDfgOhig-",
      "authorship_tag": "ABX9TyPQuxQtCQEgunEDAq12hZ80",
      "include_colab_link": true
    },
    "kernelspec": {
      "name": "python3",
      "display_name": "Python 3"
    },
    "language_info": {
      "name": "python"
    }
  },
  "cells": [
    {
      "cell_type": "markdown",
      "metadata": {
        "id": "view-in-github",
        "colab_type": "text"
      },
      "source": [
        "<a href=\"https://colab.research.google.com/github/ManvithaGuluri/courier-service-system-online/blob/main/real_estate.ipynb\" target=\"_parent\"><img src=\"https://colab.research.google.com/assets/colab-badge.svg\" alt=\"Open In Colab\"/></a>"
      ]
    },
    {
      "cell_type": "code",
      "execution_count": null,
      "metadata": {
        "id": "OhzhUOz8WU5M"
      },
      "outputs": [],
      "source": [
        "import pandas \n",
        "from sklearn import linear_model\n",
        "df=pandas.read_csv(\"/content/Real estate valuation data set.csv\")\n",
        "x=df[['X5 latitude','X6 longitude']]\n",
        "y=df['Y house price of unit area']\n",
        "regr=linear_model.LinearRegression()\n",
        "regr.fit(x,y)\n",
        "predictedPrice=regr.predict([[1.0,100.0]])\n",
        "print(predictedPrice)"
      ]
    },
    {
      "cell_type": "code",
      "source": [
        "import pandas \n",
        "from sklearn import linear_model\n",
        "df=pandas.read_csv(\"/content/Real estate valuation data set.csv\")\n",
        "x=df[['X1 transaction date','X2 house age']]\n",
        "y=df['Y house price of unit area']\n",
        "regr=linear_model.LinearRegression()\n",
        "regr.fit(x,y)\n",
        "predictedPrice=regr.predict([[1.0,100.0]])\n",
        "print(predictedPrice)\n"
      ],
      "metadata": {
        "id": "u17X3-ExWle_"
      },
      "execution_count": null,
      "outputs": []
    },
    {
      "cell_type": "code",
      "source": [
        "import pandas \n",
        "from sklearn import linear_model\n",
        "df=pandas.read_csv(\"/content/Real estate valuation data set.csv\")\n",
        "x=df[['X3 distance to the nearest MRT station','X4 number of convenience stores']]\n",
        "y=df['Y house price of unit area']\n",
        "regr=linear_model.LinearRegression()\n",
        "regr.fit(x,y)\n",
        "predictedPrice=regr.predict([[1.0,100.0]])\n",
        "print(predictedPrice)\n"
      ],
      "metadata": {
        "id": "vKvyvVBkWlin"
      },
      "execution_count": null,
      "outputs": []
    },
    {
      "cell_type": "code",
      "source": [
        "import pandas \n",
        "from sklearn import linear_model\n",
        "df=pandas.read_csv(\"/content/Real estate valuation data set.csv\")\n",
        "x=df[['X3 distance to the nearest MRT station','X1 transaction date']]\n",
        "y=df['Y house price of unit area']\n",
        "regr=linear_model.LinearRegression()\n",
        "regr.fit(x,y)\n",
        "predictedPrice=regr.predict([[1.0,100.0]])\n",
        "print(predictedPrice)\n"
      ],
      "metadata": {
        "id": "o6_BC1k2Wlks"
      },
      "execution_count": null,
      "outputs": []
    },
    {
      "cell_type": "code",
      "source": [
        "import pandas \n",
        "from sklearn import linear_model\n",
        "df=pandas.read_csv(\"/content/Real estate valuation data set.csv\")\n",
        "x=df[['X3 distance to the nearest MRT station','X5 latitude']]\n",
        "y=df['Y house price of unit area']\n",
        "regr=linear_model.LinearRegression()\n",
        "regr.fit(x,y)\n",
        "predictedPrice=regr.predict([[1.0,100.0]])\n",
        "print(predictedPrice)\n"
      ],
      "metadata": {
        "id": "S4x1Y0PQWlna"
      },
      "execution_count": null,
      "outputs": []
    },
    {
      "cell_type": "code",
      "source": [
        "from google.colab import drive\n",
        "drive.mount('/content/drive')"
      ],
      "metadata": {
        "id": "mdyWOY5PXBgf"
      },
      "execution_count": null,
      "outputs": []
    },
    {
      "cell_type": "code",
      "source": [],
      "metadata": {
        "id": "9dOATuTMWlqb"
      },
      "execution_count": null,
      "outputs": []
    },
    {
      "cell_type": "code",
      "source": [],
      "metadata": {
        "id": "Ej719SA5WltE"
      },
      "execution_count": null,
      "outputs": []
    },
    {
      "cell_type": "code",
      "source": [],
      "metadata": {
        "id": "9k2_htkdWlv5"
      },
      "execution_count": null,
      "outputs": []
    },
    {
      "cell_type": "code",
      "source": [],
      "metadata": {
        "id": "HLc_GuQNWlyf"
      },
      "execution_count": null,
      "outputs": []
    },
    {
      "cell_type": "code",
      "source": [],
      "metadata": {
        "id": "cC0VGMqjWl1O"
      },
      "execution_count": null,
      "outputs": []
    }
  ]
}